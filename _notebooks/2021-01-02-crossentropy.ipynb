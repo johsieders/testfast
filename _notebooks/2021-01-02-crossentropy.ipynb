{
 "cells": [
  {
   "cell_type": "code",
   "execution_count": 10,
   "metadata": {},
   "outputs": [],
   "source": [
    "# KI-Gilde\n",
    "# QAware GmbH, Munich\n",
    "# 14.01.2022"
   ]
  },
  {
   "cell_type": "markdown",
   "metadata": {},
   "source": [
    "## Entropy and Cross Entropy\n",
    "\n",
    "This tutorial has two purposes:\n",
    "\n",
    "* It recaps the ideas of entropy and cross entropy.\n",
    "* It explains how they are implemented in Pytorch.\n",
    "\n",
    "Pytorch is often elegant and fast but not always straightforward. Our aim is to disentangle important functions\n",
    "such as\n",
    "[`CrossEntropyLoss`](https://pytorch.org/docs/stable/generated/torch.nn.CrossEntropyLoss.html)\n",
    "[`BCELoss`](https://pytorch.org/docs/stable/generated/torch.nn.BCELoss.html) (binary cross entropy loss)\n",
    "[`BCELossWithLogits`](https://pytorch.org/docs/stable/generated/torch.nn.BCEWithLogitsLoss.html)\n",
    "[`NLLLoss`](https://pytorch.org/docs/stable/generated/torch.nn.NLLLLoss.html) (non-negative log loss)\n",
    "[`softmax`](https://pytorch.org/docs/stable/generated/torch.nn.Softmax.html#torch.nn.Softmax)\n",
    "[`log_softmax`](https://pytorch.org/docs/stable/generated/torch.nn.LogSoftmax.html#torch.nn.LogSoftmax)\n",
    "[`sigmoid`](https://pytorch.org/docs/stable/generated/torch.nn.Sigmoid.html?highlight=sigmoid#torch.nn.Sigmoid) and\n",
    "[`logit`](https://pytorch.org/docs/stable/special.html#torch.special.logit).\n",
    "We explain for each of these:\n",
    "\n",
    "* input (format and meaning),\n",
    "* output (format and meaning),\n",
    "* what they exactly do,\n",
    "* and what the names mean (`NLLLoss`?).\n",
    "\n",
    "We are not interested in the plethora of optional parameters.\n",
    "The story is trivial for the initiated but possibly helpful for the rest of us."
   ]
  },
  {
   "cell_type": "code",
   "execution_count": 11,
   "metadata": {},
   "outputs": [],
   "source": [
    "import torch\n",
    "import torch.nn as nn\n",
    "from torch import arange, tensor, softmax, log_softmax, Tensor\n",
    "import matplotlib.pyplot as plt\n",
    "\n",
    "def show_diff(a: Tensor, b: Tensor):\n",
    "    print(a.item() - b.item())\n",
    "\n",
    "def plot(x, y, label, xlabel, ylabel):\n",
    "    plt.plot(x, y, label=label)\n",
    "    plt.legend(loc='center left', bbox_to_anchor=(1, 0.5))\n",
    "    plt.xlabel(xlabel)\n",
    "    plt.ylabel(ylabel)\n"
   ]
  },
  {
   "cell_type": "markdown",
   "metadata": {},
   "source": [
    "### Entropy (Recap)\n",
    "\n",
    "Consider a lottery with one number out of a million winning, all outcomes being equally likely.\n",
    "The information that, say, the number $n=123.456$ is __not__ going to win is unsurprising while the converse,\n",
    "$n$ is guaranteed to win, would be of utmost interest. The lower the probability of an event,\n",
    "the higher the surprise. The surprise of an event is defined as the negative $\\log$ of its probability: the smaller the probability, the higher the surprise.\n",
    "The surprise can also be thought of as the amount of information conveyed,\n",
    "it is in fact the number of bits needed to encode that information.\n",
    "\n",
    "[abc]:  http://google.com/\n",
    "\n",
    "The entropy $H$ of a discrete probability distribution $\\textbf{p} = [p_1, \\dots, p_n]$ is defined as the expected surprise or\n",
    "the expected amount of information:\n",
    "\n",
    "$H(\\textbf{p}) = E[\\log(\\textbf{p})] = -\\sum_{i=0}^{n-1} p_i \\log(p_i)$\n",
    "\n",
    "where it is understood that all probabilities are positive (just discard the zeros).\n",
    "The simplest case is the Bernoulli distribution $B(p)$ which describes the throw of a coin:\n",
    "\n",
    "$P[X=1]=p$, $P[X=0]=1-p$.\n",
    "\n",
    "We have\n",
    "\n",
    "$H(p) = -[p\\log(p) + (1-p)\\log(1-p)]$\n",
    "\n",
    "The entropy's derivative\n",
    "\n",
    "$\\frac{d}{dp} H(p) = \\log(p) - \\log(1-p)$\n",
    "\n",
    "is zero at $p = 0.5$. The maximal entropy $log(2) \\approx 0.6931$  is located at $p = 0.5$, with\n",
    "minimum $0$ as $p$ approaches $0$ or $1$. This is a general principle: many equally likely events\n",
    "increase the entropy, few outstanding events decrease it: entropy measures disorder or lack of structure.\n",
    "For the discrete case, it analogously holds that\n",
    "\n",
    "$0 \\lt H(\\textbf{p}) \\le \\log(n)$\n",
    "\n",
    "with the maximum $\\log(n)$ at $\\textbf{p} = [\\frac{1}{n}, \\dots, \\frac{1}{n}]$ and the minimum $0$ at\n",
    "probabilities concentrated in one spot (a so called one-hot probability).\n",
    "\n",
    "The entropy $H$ of a continuous probability density $f$ is defined as:\n",
    "\n",
    "$H(f) = \\int_{\\operatorname{supp} (f)} f(t)\\log(f(t))dt$,\n",
    "\n",
    "The entropy of the uniform distribution on $[0, T]$ is simply $\\log(T)$.\n",
    "Note that in the continuous case, the entropy can be $0$ (for $T = 1$) or negative\n",
    "(for $T \\in (0, 1)$).\n",
    "The entropy of the normal distribution $\\mathcal{N}(\\mu, \\sigma)$ is $\\frac {1}{2}(1+\\log(2\\sigma ^{2}\\pi))$,\n",
    "independent of $\\mu$."
   ]
  },
  {
   "cell_type": "markdown",
   "metadata": {},
   "source": [
    "### Entropy (Pytorch)\n",
    "\n",
    "Pytorch feature numerous distributions; they all come with their entropy function."
   ]
  },
  {
   "cell_type": "code",
   "execution_count": 12,
   "metadata": {},
   "outputs": [
    {
     "data": {
      "text/plain": "<Figure size 432x288 with 1 Axes>",
      "image/png": "[encoded data removed]"
     },
     "metadata": {
      "needs_background": "light"
     },
     "output_type": "display_data"
    }
   ],
   "source": [
    "from torch.distributions.bernoulli import Bernoulli\n",
    "\n",
    "x = arange(0.01, 1, 0.01)\n",
    "y = tensor([Bernoulli(p).entropy() for p in x])\n",
    "plot(x, y, 'Bernoulli' , 'p', 'entropy')"
   ]
  },
  {
   "cell_type": "code",
   "execution_count": 13,
   "metadata": {},
   "outputs": [
    {
     "data": {
      "text/plain": "<Figure size 432x288 with 1 Axes>",
      "image/png": "[encoded data removed]"
     },
     "metadata": {
      "needs_background": "light"
     },
     "output_type": "display_data"
    }
   ],
   "source": [
    "from torch.distributions.normal import Normal\n",
    "\n",
    "x = arange(0.01, 1, 0.01)\n",
    "y = tensor([Normal(tensor([0.]), tensor([s])).entropy() for s in x])\n",
    "plot(x, y, 'Normal' , 's', 'entropy')"
   ]
  },
  {
   "cell_type": "markdown",
   "metadata": {},
   "source": [
    "### Some useful functions\n",
    "\n",
    "We introduce $\\operatorname{odds}$, $\\operatorname{logit}$ and $\\operatorname{softmax}$.\n",
    "\n",
    "\"The odds are 5\" is a way of saying that winning is 5 times more likely than losing,\n",
    "which means that $p/(1 - p) = 5$, or $p = 5/6$. The definition is:\n",
    "\n",
    "$\\operatorname{odds}(p) = \\frac{p}{1-p}$.\n",
    "\n",
    "$\\operatorname{logit}$ is the $\\log$ of odds:\n",
    "\n",
    "$\\operatorname{logit}(p) = \\log(\\frac{p}{1-p})$,\n",
    "\n",
    "and $\\operatorname{sigmoid}$ is the inverse of $\\operatorname{logit}$:\n",
    "\n",
    "$\\operatorname{sigmoid}(x) = \\frac{1}{1 + \\exp(-x)}$,\n",
    "\n",
    "which is thus confirmed:"
   ]
  },
  {
   "cell_type": "code",
   "execution_count": 14,
   "outputs": [
    {
     "name": "stdout",
     "output_type": "stream",
     "text": [
      "-4.76837158203125e-07\n",
      "0.0\n"
     ]
    }
   ],
   "source": [
    "x = tensor(2.)\n",
    "p = tensor(0.1)\n",
    "\n",
    "# logit undoes sigmoid\n",
    "show_diff(torch.logit(torch.sigmoid(x)), x)\n",
    "\n",
    "# sigmoid undoes logit\n",
    "show_diff(torch.sigmoid(torch.logit(p)), p)"
   ],
   "metadata": {
    "collapsed": false,
    "pycharm": {
     "name": "#%%\n"
    }
   }
  },
  {
   "cell_type": "markdown",
   "source": [
    "$\\operatorname{sigmoid}$ normalizes any real number to the open interval $(0, 1)$.\n",
    "It is frequently used as activation function in neuronal networks.\n",
    "\n",
    "$\\operatorname{softmax}$ does for vectors what $\\operatorname{sigmoid}$ does for scalars. It normalizes any\n",
    "vector $\\textbf{x} = [x_1, \\dots, x_n]$ of real numbers (e.g. the output\n",
    "of a neuronal network) to a probability distribution:\n",
    "\n",
    "$\\operatorname{softmax}(\\textbf{x}) = \\left[ \\frac{\\exp(x_i)}{\\sum_{j=1}^{n}exp(x_j)} \\right]_{i=1,\\dots, n}$\n",
    "\n",
    "$\\operatorname{softmax}$ is often combined with $\\log$ for better numerical stability.\n",
    "$\\operatorname{softmax}$ is only one of many possible normalizations. So, for instance, it would be natural to\n",
    "normalize $[\\operatorname{logit}(p), \\operatorname{logit}(1-p)]$ to $[p, 1-p]$, but here is\n",
    "what $\\operatorname{softmax}$ does:\n",
    "\n",
    "$\\operatorname{softmax}([\\operatorname{logit}(p), \\operatorname{logit}(1-p)]) =\n",
    "\\left[\\frac{p^2}{p^2+(1-p)^2}, \\frac{(1-p)^2}{p^2+(1-p)^2}\\right]$,\n"
   ],
   "metadata": {
    "collapsed": false,
    "pycharm": {
     "name": "#%% md\n"
    }
   }
  },
  {
   "cell_type": "markdown",
   "metadata": {},
   "source": [
    "### Cross Entropy (Recap)\n",
    "\n",
    "The cross entropy of two discrete probability distributions $\\textbf{p}$ and $\\textbf{q}$ is defined as\n",
    "\n",
    "$H(\\textbf{p}, \\textbf{q}) = -E_p [\\log(\\textbf{q})] = -\\sum_{i=1}^{n-1} p_i \\log(q_i)$\n",
    "\n",
    "The cross entropy tells us how much\n",
    "information is contained in $\\textbf{q}$ given $\\textbf{p}$.\n",
    "It can be thought of as the gap between $\\textbf{p}$ and $\\textbf{q}$:\n",
    "the more additional information $\\textbf{q}$ carries, the larger the gap. In more precise terms:\n",
    "\n",
    "> $H(p, q)$ is the expected extra message-length per datum that must be communicated if a code\n",
    "that is optimal for a given (wrong) distribution $q$ is used, compared to using a code based\n",
    "on the true distribution $p$: it is the excess entropy\n",
    "(see [Wikipedia](https://en.wikipedia.org/wiki/Kullback%E2%80%93Leibler_divergence#Motivation) for details).\n",
    "\n",
    "It is not symmetric, and we have $H(\\textbf{p}, \\textbf{p}) = H(\\textbf{p})$ which is never zero in the discrete case.\n",
    "\n",
    "The business case of cross entropy is as follows:\n",
    "A known distribution $\\textbf{p}$ (the one before the $\\log$) is considered the truth or best guess.\n",
    "A second distribution $\\textbf{q}$ (the one inside the $\\log$)\n",
    "is assumed to be Bernoulli, Normal or whatever. The problem is to minimize\n",
    "the gap $H(\\textbf{p}, \\textbf{q})$ between $\\textbf{p}$ and $\\textbf{q}$ by\n",
    "choosing optimal parameters of the assumed distribution.\n",
    "In neuronal networks, cross entropy is used exactly as any other distance\n",
    "such as the mean square error (MSE).\n",
    "\n",
    "### Cross Entropy (Pytorch)\n",
    "\n",
    "There are two Pytorch functions which do the job: `CrossEntropyLoss` and `BCELoss`\n",
    "(binary cross entropy loss) for the binary case.\n",
    "\n",
    "Let us look at `CrossEntropyLoss` first. Up to some details, it\n",
    "takes two arrays of distributions (two matrices with shape `(m, K)`)\n",
    "and computes the mean cross entropy of all pairs.\n",
    "To understand the details, we proceed in three steps:\n",
    "\n",
    "1. We define a function `CELoss1(Q: Tensor, P: Tensor) -> Tensor` which accepts two matrices `Q` and `P`,\n",
    "each row being a probability distribution. The result is the mean of cross entropies `H(Q(i), P(i))`\n",
    "(a tensor with one float element).\n",
    "Note that the order of arguments has changed with respect to $H(p, q)$:\n",
    "now the reference distribution `P` comes last.\n",
    "The shape of both `P` and `Q` is `(m, K)`:\n",
    "`m` is the number of observations (or batch size),\n",
    "`K` the number of different classes; in the Bernoulli case, we have `K = 2`.\n",
    "\n",
    "2. We define a function `CELoss2(Q: Tensor, y: Tensor) -> Tensor`, in which the second argument `P` is\n",
    "replaced with a one-hot representation: all but one `p[i]` are zero, and exactly one, say `p[k]` equals one,\n",
    "which is expressed by `y[i] = k`. So, the vector `y` replaces a huge spare matrix with exactly one non-zero\n",
    "element in each row (this is called the incidence matrix).\n",
    "\n",
    "3. We define a function `CELoss3(X: Tensor, y: Tensor) -> Tensor` which differs from `cross_entropy_onehot`\n",
    "in that each row of the first argument `X` is transformed into a probability distribution via `softmax`.\n",
    "So, `CELoss3` accepts any K-dimensional input. Up to some additional parameters does\n",
    "this function the same as Pytorch's `CELoss`."
   ]
  },
  {
   "cell_type": "code",
   "execution_count": 15,
   "metadata": {},
   "outputs": [
    {
     "name": "stdout",
     "output_type": "stream",
     "text": [
      "-2.9802322387695312e-08\n",
      "-2.9802322387695312e-08\n"
     ]
    }
   ],
   "source": [
    "def CELoss1(Q: Tensor, P: Tensor) -> Tensor:\n",
    "    \"\"\"\n",
    "    @param Q: matrix of estimated probability densities to be compared to P, shape = (m, K)\n",
    "    @param P: matrix of reference probability densities, shape = (m, K)\n",
    "    @return: -mean of row wise cross entropy of Q with respect to P\n",
    "    \"\"\"\n",
    "    # log(Q) has shape (m, K); log is elementwise applied\n",
    "    # log(Q) * P has shape (m, K); this is the elementwise product\n",
    "    # torch.sum(torch.log(Q) * P, 1) yields the vector of row sums\n",
    "    return -torch.mean(torch.sum(torch.log(Q) * P, 1))\n",
    "\n",
    "def CELoss2(Q: Tensor, y: Tensor) -> Tensor:\n",
    "    \"\"\"\n",
    "    @param Q: matrix of estimated probability densities to be compared to y, shape = (m, K)\n",
    "    @param y: vector of true labels; 0 <= y[i] < K = Q.shape[1], shape = (m,)\n",
    "    y represents a one-hot probability\n",
    "    @return: mean of row wise cross entropy of Q with respect to p\n",
    "    \"\"\"\n",
    "    x = range(Q.shape[0]) # m\n",
    "    # Q[x, y] is the same as [Q[i, y[i]] for i in range(m)]\n",
    "    return -torch.mean(torch.log(Q[x, y]))\n",
    "\n",
    "def CELoss3(X: Tensor, y: Tensor) -> Tensor:\n",
    "    \"\"\"\n",
    "    @param X: any vector of shape (n,)\n",
    "    X is transformed into a probability density Q via softmax\n",
    "    @param y: the true label; 0 <= y < K = q.shape\n",
    "    y represents the one-hot probability\n",
    "    @return: cross entropy of q with respect to y\n",
    "    \"\"\"\n",
    "    return CELoss2(softmax(X, 1), y)\n",
    "\n",
    "CELoss = nn.CrossEntropyLoss()\n",
    "\n",
    "# CELoss and CELoss3 yield almost the same results.\n",
    "\n",
    "X = tensor([[1., 1., 2., 3.],\n",
    "            [3., 4., 1., 7.]])\n",
    "y = tensor([3, 3])\n",
    "\n",
    "show_diff(CELoss(X[[1]], y[[1]]), CELoss3(X[[1]], y[[1]]))\n",
    "show_diff(CELoss(X, y), CELoss3(X, y))"
   ]
  },
  {
   "cell_type": "markdown",
   "metadata": {},
   "source": [
    "### A Numerical Issue\n",
    "\n",
    "In `CELoss3` we first compute `softmax` with lots of exponents and then take the `log` in `CELoss2`.\n",
    "It is convenient to shift the `log` from `CELoss2` to `CELoss3`.\n",
    "So, `CELoss2` becomes `NLLLoss1`, equivalent to `NLLLoss`, and\n",
    "`CELoss3` becomes `CELoss4`, equivalent to `CrossEntropyLoss`.\n",
    "`NLLLoss` is so called because it expects its input to be just that, a non-negative log loss."
   ]
  },
  {
   "cell_type": "code",
   "execution_count": 16,
   "metadata": {},
   "outputs": [
    {
     "name": "stdout",
     "output_type": "stream",
     "text": [
      "0.0\n",
      "0.0\n"
     ]
    }
   ],
   "source": [
    "def NLLLoss1(Q: Tensor, y: Tensor) -> Tensor:\n",
    "    \"\"\"\n",
    "    Negative Loss Likelihood Loss\n",
    "    @param Q: matrix of estimated probability densities to be compared to y, shape = (m, K)\n",
    "    @param y: the true label; 0 <= y < K = q.shape\n",
    "    @return: -mean of [Q[i, y[i]] for i in range(m)]\n",
    "    \"\"\"\n",
    "    x = range(Q.shape[0]) # m\n",
    "    # Q[x, y] is the same as [Q[i, y[i]] for i in range(m)]\n",
    "    return -torch.mean(Q[x, y])\n",
    "\n",
    "def CELoss4(X: Tensor, y: Tensor) -> Tensor:\n",
    "    \"\"\"\n",
    "    This is identical to CELoss3 but numerically more stable\n",
    "    @param X: any vector of shape (n,)\n",
    "    X is transformed into a probability density Q via softmax\n",
    "    @param y: the true label; 0 <= y < K = q.shape\n",
    "    This represents the one-hot probability p concentrated at y\n",
    "    @return: cross entropy of q with respect to y\n",
    "    \"\"\"\n",
    "    return NLLLoss1(log_softmax(X, 1), y)\n",
    "\n",
    "\n",
    "# CELoss and CELoss4 yield exactly the same results\n",
    "\n",
    "X = tensor([[1., 1., 2., 3.],\n",
    "            [3., 4., 1., 7.]])\n",
    "y = tensor([3, 3])\n",
    "\n",
    "show_diff(CELoss(X[[1]], y[[1]]), CELoss4(X[[1]], y[[1]]))\n",
    "show_diff(CELoss(X, y), CELoss4(X, y))\n"
   ]
  },
  {
   "cell_type": "markdown",
   "metadata": {},
   "source": [
    "### Cross Entropy Loss and Binary Cross Entropy (Pytorch)\n",
    "\n",
    "As the rows of `P`, the first argument of `CELoss`, sum up to 1, we could dispose of one column.\n",
    "This is what `BCELoss` does in the binary case. It serves as a shorthand for `CrossEntropyLoss`.\n",
    "Its input are two tensors of shape `(m,)`, the first one, `P`, with probabilities,\n",
    "the second one, `y` with binary labels. The missing second column of `P` is computed as `1 - P`.\n",
    "See `BCELoss1` for an implementation.\n",
    "\n",
    "`BCELoss` is not quite consistent with `CrossEntropyLoss`.\n",
    "Comparing `BCELoss` with `CELoss`is tricky because the latter applies\n",
    "`softmax` while the former uses `sigmoid`. We proceed as follows:\n",
    "\n",
    "The input to `CELoss` is some tensor `X` and binary labels `y` both with shape `(m, 2)`.\n",
    "The input to `BCELoss` is obtained by taking the second column of `softmax(X)`.\n",
    "`BCELoss` requires the binary labels to be `float`."
   ]
  },
  {
   "cell_type": "code",
   "execution_count": 17,
   "metadata": {},
   "outputs": [
    {
     "name": "stdout",
     "output_type": "stream",
     "text": [
      "-7.450580596923828e-09\n",
      "0.0\n"
     ]
    }
   ],
   "source": [
    "def BCELoss1(q: Tensor, y: Tensor) -> Tensor:\n",
    "    ones = torch.ones_like(y)\n",
    "    return -torch.mean(y * torch.log(q) + (ones - y) * torch.log(ones - q))\n",
    "\n",
    "CELoss = nn.CrossEntropyLoss()\n",
    "BCELoss = nn.BCELoss()\n",
    "\n",
    "# Input for CELoss:\n",
    "# X.shape = (m, 2), because it's binary\n",
    "X = tensor([[8., 2.], [3., 4.], [8., 3.]])\n",
    "# y contains only 0 and 1\n",
    "y = tensor([0, 1, 0])\n",
    "\n",
    "# Input for BCELoss (and BCELoss1):\n",
    "# softmax(X, dim=1) contains in each row a binary probability density\n",
    "# Q is the second column of softmax(X, dim=1)\n",
    "Q = softmax(X, dim=1)[:, 1]\n",
    "y1 = y.to(torch.float)  # doesn't make sense\n",
    "\n",
    "# CELoss and BCELoss are almost equal,\n",
    "show_diff(CELoss(X, y), BCELoss(Q, y1))\n",
    "\n",
    "# while BCELoss and BCELoss1 completely agree.\n",
    "show_diff(BCELoss(Q, y1), BCELoss1(Q, y))"
   ]
  },
  {
   "cell_type": "markdown",
   "metadata": {},
   "source": [
    "### BCELoss and BCEWithLogitsLoss (Pytorch)\n",
    "\n",
    "`BCELoss` comes in two varieties: The first one, `BCELoss` accepts as first\n",
    "argument a vector `P` of probabilities.\n",
    "This corresponds to `CELoss1`. The second one, `BCEWithLogitsLoss`, accepts as first argument any real vector\n",
    "which is normalized by `sigmoid` rather than `softmax` as in `CrossEntropyLoss`.\n",
    "`BCEWithLogitsLoss` is so called because the first argument is expected to be a logit."
   ]
  },
  {
   "cell_type": "code",
   "execution_count": 18,
   "metadata": {},
   "outputs": [
    {
     "name": "stdout",
     "output_type": "stream",
     "text": [
      "0.0\n"
     ]
    }
   ],
   "source": [
    "BCEWithLogitsLoss = nn.BCEWithLogitsLoss()\n",
    "logit = torch.logit\n",
    "\n",
    "Q = tensor([0.1, 0.3, 0.6])\n",
    "y = tensor([1., 0., 1.])\n",
    "\n",
    "show_diff(BCELoss(Q, y), BCEWithLogitsLoss(logit(Q), y))"
   ]
  }
 ],
 "metadata": {
  "kernelspec": {
   "display_name": "Python 3",
   "language": "python",
   "name": "python3"
  }
 },
 "nbformat": 4,
 "nbformat_minor": 0
}